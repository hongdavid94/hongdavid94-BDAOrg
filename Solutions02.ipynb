{
 "cells": [
  {
   "cell_type": "markdown",
   "metadata": {},
   "source": [
    "# Assignment 02\n",
    "\n",
    "**Due:** Thursday, 2018-02-15, 11:59 PM, as a Jupyter notebook submitted via your repo in the course GitHub organization.  Edit the provided Solution02 notebook with your solutions.  All subproblems are worth 1 point unless otherwise noted."
   ]
  },
  {
   "cell_type": "markdown",
   "metadata": {},
   "source": [
    "### Problem 1.1 (1/2 point):\n",
    "\n",
    "> *How many possible binary logical operations are there?*  Don't just report a number; briefly explain your reasoning."
   ]
  },
  {
   "cell_type": "markdown",
   "metadata": {},
   "source": [
    "| A | B | Op1 | Op2 | Op... |\n",
    "|---|---|-----|-----|-------|\n",
    "| T | T | T   | T   | ...   |\n",
    "| T | F | T   | T   | ...   |\n",
    "| F | T | T   | T   | ...   |\n",
    "| F | F | T   | F   | ...   |\n",
    "\n",
    "### Answer: For two statements, each statement can be resulted to be true or false. Which means for an operation, statements can have four different kinds of \"inputs\" (e.g. A is T and B is F, P is T and A is T...). That is, an operator is like a function (Op: A x B -> {T,F} where A = {T,F} and B = {T,F}). Each operator should be able to take in all \"inputs\" and output T or F for each input. Therefore, the number of possible mapping from input to output is 2 x 2 x 2 x 2 or 16. And if an operator has the same mapping as another operator, the two operators are identical. Therefore, there are 16 possible binary logical operations."
   ]
  },
  {
   "cell_type": "markdown",
   "metadata": {},
   "source": [
    "### Problem 1.2 (1/2 point):\n",
    "\n",
    "An important result in propositional logic is that **all** possible logical operations can be expressed in terms of **NOT**, **AND**, and **OR**; one says this set of operations is *functionally complete*.  In particular, whatever your answer was for Problem 1.1, all of those binary operations can be expressed as some combination of **NOT**, **AND**, and **OR**.  This is important for probability theory, which is built on expressions for probabilities for these three operations on propositions.\n",
    "\n",
    "> *Express **XOR** in terms of **NOT**, **AND**, and **OR** (you may not need all of them).*\n",
    "\n",
    "> Present your result as a truth table similar to this:\n",
    "\n",
    "| $A$ | $B$ |   | OP1 | OP2 | ... |   | **Answer** |\n",
    "|:---:|:---:|---|:---:|:---:|:---:|---|:----------:|\n",
    "| 0   | 0   |   | ?   | ?   |     |   | 0          |\n",
    "| 0   | 1   |   | ?   | ?   |     |   | 1          |\n",
    "| 1   | 0   |   | ?   | ?   |     |   | 1          |\n",
    "| 1   | 1   |   | ?   | ?   |     |   | 0          |\n",
    "\n",
    "> Replace **OP1**, etc., with whatever operations you are composing to construct **XOR** (i.e., showing the ingredients comprising your expression), and replace **Answer** with your final expression (e.g., something like $(A\\land B)\\lor (\\overline{A\\lor B}) \\land B$, but not exactly that!).\n",
    "\n",
    "[To quickly create nice Markdown markup for the tables above, I used the [Markdown TablesGenerator](http://www.tablesgenerator.com/markdown_tables) that we used in Lab.  Feel free to use it to help with your solutions.]"
   ]
  },
  {
   "cell_type": "markdown",
   "metadata": {},
   "source": [
    "| A | B | A XOR B | A AND B | NOT(A AND B) | A OR B | NOT(A AND B) AND (A OR B) |\n",
    "|---|---|---------|---------|--------------|--------|---------------------------|\n",
    "| T | T | F       | T       | F            | T      | F                         |\n",
    "| T | F | T       | F       | T            | T      | T                         |\n",
    "| F | T | T       | F       | T            | T      | T                         |\n",
    "| F | F | F       | T       | T            | F      | F                         |\n",
    "\n",
    "### Answer: $(\\overline{A\\land B}) \\land (A\\lor B)$"
   ]
  },
  {
   "cell_type": "markdown",
   "metadata": {},
   "source": [
    "### Problem 1.3:\n",
    "\n",
    "There are other small sets of functionally complete operations.  In fact, all possible logical operations can be expressed in terms of a **single** binary operator, which may be taken to be either **NAND** (\"*NOT* *AND*\" or \"not both,\" i.e., $\\overline{A\\land B}$) or **NOR** (\"*NOT* *OR*,\" i.e., $\\overline{A\\lor B}$, \"neither $A$ nor $B$\"), as defined in the following truth table:\n",
    "\n",
    "| $A$ | $B$ |   | $A$ NAND $B$ | $A$ NOR $B$ |\n",
    "|:---:|:---:|---|:------------:|:-----------:|\n",
    "| 0   | 0   |   | 1            | 1           |\n",
    "| 0   | 1   |   | 1            | 0           |\n",
    "| 1   | 0   |   | 1            | 0           |\n",
    "| 1   | 1   |   | 0            | 0           |\n",
    "\n",
    "> *Pick one of these operators, and express $\\overline{A}$, $A\\land B$, and $A\\lor B$ in terms of it.*  You need only present three expressions (use MathJax LaTeX); no truth tables are necessary."
   ]
  },
  {
   "cell_type": "markdown",
   "metadata": {},
   "source": [
    "### Answer:\n",
    "\n",
    "$\\overline{A}$ is equivalent with $((A\\;NAND\\;B)\\;NAND\\;A)\\;NAND\\;(A\\;NAND\\;B)$\n",
    "\n",
    "\n",
    "$A\\land B$ is equivalent with $(A\\;NAND\\;B)\\;NAND\\;(A\\;NAND\\;B)$\n",
    "\n",
    "$A\\lor B$ is equivalent with $\\overline{A}\\;NAND\\;((A\\;NAND\\;B)\\;NAND\\;B)$\n",
    "\n",
    "or\n",
    "\n",
    "$(((A\\;NAND\\;B)\\;NAND\\;A)\\;NAND\\;(A\\;NAND\\;B))\\;NAND\\;((A\\;NAND\\;B)\\;NAND\\;B)$"
   ]
  },
  {
   "cell_type": "markdown",
   "metadata": {},
   "source": [
    "### Problem 1.4:\n",
    "\n",
    "Digital computers are essentially propositional logic computing devices, built using \"logic gate\" circuit elements that implement basic logic (and memory) functions.  A key component of a CPU chip in a computer is an *arithmetic logic unit* (ALU) that performs arithmetic and bitwise logic operations on bits and larger groups of binary digits (*nibbles* comprised of 4 bits, *bytes* comprised of 8 bits, and *words* comprised of multiple bytes).  The ALU is built from simple gates that implement desired operations via truth table representations.  For example, the addition of the lowermost bits, $A$ and $B$, of two numbers can be expressed by the following truth table:\n",
    "\n",
    "| $A$ | $B$ |   | Sum | Carry |\n",
    "|:---:|:---:|---|:---:|:-----:|\n",
    "| 0   | 0   |   | 0   | 0     |\n",
    "| 0   | 1   |   | 1   | 0     |\n",
    "| 1   | 0   |   | 1   | 0     |\n",
    "| 1   | 1   |   | 0   | 1     |\n",
    "\n",
    "Here **Sum** denotes the first (lowermost) binary digit of the sum of $A$ and $B$, and **Carry** denotes a carry bit, indicating that $1+1=2$, or 10 in binary (the carry bit will affect the outcome of adding the next highest bits of the numbers being processed by the ALU).  Two logic functions implementing this table comprise a *half adder* (a *full adder* is a trinary operation that handles an additional carry bit input).\n",
    "\n",
    "> *Express the Sum and Carry operations in terms of **NOT**, **AND**, and **OR**.*  Show the intermediate operations in a truth table, along the lines of Problem 1.2."
   ]
  },
  {
   "cell_type": "markdown",
   "metadata": {},
   "source": [
    "| A | B | A AND B | NOT(A AND B) | A OR B | (NOT (A AND B)) AND (A OR B) |\n",
    "|---|---|---------|--------------|--------|------------------------------|\n",
    "| 0 | 0 | 0       | 1            | 0      | 0                            |\n",
    "| 1 | 0 | 0       | 1            | 1      | 1                            |\n",
    "| 0 | 1 | 0       | 1            | 1      | 1                            |\n",
    "| 1 | 1 | 1       | 0            | 1      | 0                            |\n",
    "\n",
    "### Answer: assuming 1 is treated as \"True\" and 0 is treated as \"False\" in logical operations.\n",
    "\n",
    "#### Sum can be expressed as $A\\land B$\n",
    "\n",
    "#### Carry can be expressed as $(\\overline{A\\land B})\\land (A\\lor B)$\n"
   ]
  },
  {
   "cell_type": "markdown",
   "metadata": {},
   "source": [
    "### Problem 2.1:\n",
    "\n",
    "> *Using Bayes's theorem, answer the question posed in the Kahneman/Tversky exercise quoted above, verifying that the typical answer is incorrect.*\n",
    "> * Specify the hypothesis space.\n",
    "> * Specify the data proposition.\n",
    "> * Calculate the posterior probabilities for the hypotheses, presenting a table that shows the prior, likelihood, prior$\\times$likelihood, and posterior probabilities for the hypotheses."
   ]
  },
  {
   "cell_type": "code",
   "execution_count": 2,
   "metadata": {
    "collapsed": false
   },
   "outputs": [
    {
     "name": "stdout",
     "output_type": "stream",
     "text": [
      "likelihood for h1, h2:  0.15 0.85\n",
      "joint for h1, h2:  0.12 0.17\n",
      "post for h1, h2:  0.4137931034482758 0.5862068965517241\n"
     ]
    },
    {
     "data": {
      "text/plain": [
       "0.9999999999999999"
      ]
     },
     "execution_count": 2,
     "metadata": {},
     "output_type": "execute_result"
    }
   ],
   "source": [
    "likeli_h1=round(0.15,9)\n",
    "likeli_h2=round(0.85,9)\n",
    "print(\"likelihood for h1, h2: \",likeli_h1,likeli_h2)\n",
    "joint_h1=round(likeli_h1*0.8,9)\n",
    "joint_h2=likeli_h2*0.2\n",
    "print(\"joint for h1, h2: \",joint_h1,joint_h2)\n",
    "Pr_Db=0.8*0.15+0.2*0.85\n",
    "post_h1=joint_h1/Pr_Db\n",
    "post_h2=joint_h2/Pr_Db\n",
    "print(\"post for h1, h2: \",post_h1,post_h2)\n",
    "post_h1+post_h2"
   ]
  },
  {
   "cell_type": "markdown",
   "metadata": {},
   "source": [
    "The Hypothesis space is {$C,\\overline{C}$} in which $C$ is a hypothesis in which the witness correctly identified the color of the cab and $\\overline{C}$ is a hypothesis in which the witness didn't correctly identify the color of the cab.\n",
    "\n",
    "The data is that the witness claims to have seen blue, annotated by $D_b$ (subscript b stands for blue)\n",
    "\n",
    "We are to calculate the posterior probability for\n",
    "\n",
    "| $H_i$                | Prior $Pr(H_i)$ | Likelihood $Pr(D_b | H_i)$ | Joint $Pr(H_i) \\times Pr(D_b | H_i)$ | Posterior $Pr(H_i | D_b)$ |\n",
    "|----------------------|----------------|------------------------------|------------------|------------------------------|\n",
    "| $H_1 = C$            | 0.8            | 0.15           | 0.12                | 0.4138                            |\n",
    "| $H_2 = \\overline{C}$ | 0.2            | 0.85            | 0.17                | 0.5862                            |\n",
    "\n",
    "### Answer: the posterior probability is around 0.4138"
   ]
  },
  {
   "cell_type": "markdown",
   "metadata": {},
   "source": [
    "### Problem 2.2:\n",
    "\n",
    "> Briefly explain what you think the heuristic is that most people used to justify their conclusion.  Criticize it in light of the result of the calculation in Problem 2.1."
   ]
  },
  {
   "cell_type": "markdown",
   "metadata": {},
   "source": [
    "### Answer: Most people may conclude the probability is 0.8 because they may not account for the probability of a blue/green car passing by. They would be correct if the proportions of both green and blue cars are the same. But because there are different, we need to take into account for that difference."
   ]
  },
  {
   "cell_type": "markdown",
   "metadata": {},
   "source": [
    "### Problem 3.1 — Lazy Monty\n",
    "\n",
    "One of the contextual assumptions used in the lecture was that, when you have chosen the door with the prize behind it, Monty will open one of the other doors by choosing one of them randomly, with equal probability. Here, consider slightly different contextual information, $\\mathcal{C}'$, that specifies probabilities $q_2$ and $q_3 = 1-q_2$ that Monty will pick door 2 or door 3 (respectively) when neither hide the prize.  For example, from watching the show, you may have observed that Monty is at the right of the stage, and appears to be lazy: when he could have chosen either door, he tends to favor the one nearest to him (i.e., $q_3 > q_2$).\n",
    "\n",
    "> *Recalculate the probability table we computed in the lecture, to calculate posterior probabilities that the prize is behind each of the three doors.  As was done in lecture, assume you've initially chosen door 1, and that Monty opens door 3.*"
   ]
  },
  {
   "cell_type": "markdown",
   "metadata": {},
   "source": [
    "By the presmise of the question, we know that Monty prefers open to door 3 to door 2 if he has a choice. That means the likelihood changes. p indicates the probability that Monty will open door 3. We know it is some rational number that is greater than 0.5 and less than or equal to 1. $D_3$ indicates that the Monty has opened door 3\n",
    "\n",
    "Likelihood\n",
    "\n",
    "| $Pr(D_i | H_i)$ | $D_1$ | $D_2$ | $D_3$ |\n",
    "|----------------|-------|-------|-------|\n",
    "| $H_1$          | 0     | $1-p$ | $p$   |\n",
    "| $H_2$          | 0     | 0     | 1     |\n",
    "| $H_3$          | 0     | 1     | 0     |\n",
    "\n",
    "Posterior Probabilities when door 3 is opened\n",
    "\n",
    "| $H_i$ | $\\pi_i$ | $\\lambda_i$ | $\\pi_i\\lambda_i$ | $Pr(H_i | D_3)$ |\n",
    "|-------|---------|-------------|------------------|-----------------|\n",
    "| $H_1$ | $1/3$   | $p$         | $p/3$            | $\\frac{p}{p+1}$       |\n",
    "| $H_2$ | $1/3$   | 1           | $1/3$            | $\\frac{1}{p+1}$       |\n",
    "| $H_3$ | $1/3$   | 0           | 0                | 0               |\n",
    "\n",
    "As can be seen from the table, the posterior probability is a function of p. And as stated above, p is greater than 0.5 and less than or equal to 1. So $Pr(H_1 | D_3)$ is any rational number between 1/3 to 1/2. And $Pr(H_2 | D_3)$ is any rational number between 2/3 to 1/2. $Pr(H_3 | D_3)$ is always 0. As p gets greater (as Monty's preference for door 3 gets stronger) the $Pr(H_1 | D_3)$ and $Pr(H_2 | D_3)$ will get similar"
   ]
  },
  {
   "cell_type": "markdown",
   "metadata": {},
   "source": [
    "### Answer: \n",
    "### $Pr(H_1 | D_3)$ = $\\frac{p}{p+1}$ (in between 1/3 ~ 1/2)\n",
    "### $Pr(H_2 | D_3)$ = $\\frac{1}{p+1}$ (in between 2/3 ~ 1/2)\n",
    "### $Pr(H_3 | D_3)$ = 0\n",
    "### where p is a rational number greater than 0.5 and less than or equal to 1"
   ]
  },
  {
   "cell_type": "markdown",
   "metadata": {},
   "source": [
    "### Problem 3.2 — LTP version\n",
    "\n",
    "In lecture, we treated the case where you initially chose door 1, and the datum was the proposition, \"Monty opened door 3\" (which we denoted $D_3$).  It's probably obvious to you that the problem has symmetries: that it doesn't matter which door you initially picked, or which of the other doors Monty opened: it's always in your interest to switch.\n",
    "\n",
    "Here, treat the problem in a more symmetric way.  Keep the assumption that you've initially chosen door 1.  But suppose you are trying to come up with a *strategy* for the game, before knowing which door Monty opens (but otherwise knowing all the rules, as specified in the lecture).  Let $W$ denote the proposition, \"I will win by switching to the door Monty does not open.\"  \n",
    "\n",
    "> *Compute $P(W|\\mathcal{C})$ using the law of total probability (LTP) in the \"extend the conversation\" or \"wishful thinking\" version discussed in Lec03.  Pick a set of exclusive, exhaustive propositions (filling the role of the $B_i$ in Lec03) such that, if you knew one of them were true, you could compute $P(W|B_i,\\mathcal{C})$ (use whatever symbol you deem appropriate for $B_i$).  Then use the LTP to account for uncertainty about which of those propositions actually holds.*\n",
    "\n",
    "**Hint:** You should find the same result we found in the specific case treated in class, that the probability for winning if you switch is 2/3."
   ]
  },
  {
   "cell_type": "markdown",
   "metadata": {},
   "source": [
    "Let $D_i$ be the proposition that the $i$th door has the prize behind.\n",
    "\n",
    "$$\n",
    "Pr(W|\\mathcal{C})=Pr(W,D_1|\\mathcal{C})+Pr(W,D_2|\\mathcal{C})+Pr(W,D_3|\\mathcal{C})\n",
    "$$\n",
    "\n",
    "This is true by the law of total probability, Because $D_1,D_2,D_3$ are mutually exhaustive and comprise the whole sample space \n",
    "\n",
    "$$\n",
    "Pr(W|\\mathcal{C})=Pr(W|D_1,\\mathcal{C})Pr(D_1,\\mathcal{C})+Pr(W|D_2,\\mathcal{C})Pr(D_2,\\mathcal{C})+Pr(W|D_3,\\mathcal{C})Pr(D_3,\\mathcal{C})\n",
    "$$\n",
    "\n",
    "| $D_i$ | $Pr(W|D_i,C)$ | $Pr(D_i,C)$  |\n",
    "|-------|---------------|--------------|\n",
    "| $D_1$ | 0             | $\\frac{1}{3}$ |\n",
    "| $D_2$ | 1             | $\\frac{1}{3}$ |\n",
    "| $D_3$ | 1             | $\\frac{1}{3}$ |\n",
    "\n",
    "\n",
    "\n",
    "$$\n",
    "Pr(W|\\mathcal{C})=(0)(\\frac{1}{3})+(1)(\\frac{1}{3})+(1)(\\frac{1}{3})\n",
    "$$\n",
    "\n",
    "\n",
    "$$\n",
    "Pr(W|\\mathcal{C})=\\frac{2}{3}\n",
    "$$"
   ]
  },
  {
   "cell_type": "markdown",
   "metadata": {},
   "source": [
    "### Answer: the probability of winning is $\\frac{2}{3}$"
   ]
  },
  {
   "cell_type": "markdown",
   "metadata": {},
   "source": [
    "### Problem 4.1:\n",
    "\n",
    "> *Derive the formula given in lecture for the expectation value of $x$, denoted $\\Bbb{E}(x)$ or $\\langle x\\rangle$, in terms of $a$ and $b$, where*\n",
    "$$\n",
    "\\Bbb{E}(x) = \\int dx\\; x \\times {\\rm Beta}(x|a,b).\n",
    "$$\n",
    "\n",
    "Present your derivation in the IPython notebook using MathJax LaTeX notation for the math (make sure to also use text to briefly explain your reasoning). "
   ]
  },
  {
   "cell_type": "markdown",
   "metadata": {},
   "source": [
    "By definition of Beta,\n",
    "\n",
    "$$\n",
    "{\\rm Beta}(x|a,b) = \\frac{1}{\\beta(a,b)}x^{a-1}(1-x)^{b-1}\n",
    "$$\n",
    "\n",
    "This means\n",
    "\n",
    "$$\n",
    "\\Bbb{E}(x) = \\int dx\\; x \\times {\\rm Beta}(x|a,b).\n",
    "$$\n",
    "\n",
    "$$\n",
    "\\Bbb{E}(x) = \\int dx\\; x \\times \\frac{1}{\\beta(a,b)}x^{a-1}(1-x)^{b-1}\n",
    "$$\n",
    "\n",
    "$$\n",
    "\\Bbb{E}(x) = \\int dx\\; \\times \\frac{1}{\\beta(a,b)}x^{a}(1-x)^{b-1}\n",
    "$$\n",
    "\n",
    "And by the definition of $\\beta(a,b)$\n",
    "\n",
    "$$\n",
    "\\beta(a,b) = \\int_0^1dx\\; \\times x^{a-1}(1-x)^{b-1}\n",
    "$$\n",
    "\n",
    "Therefore,\n",
    "$$\n",
    "\\Bbb{E}(x) = \\int dx\\; \\times \\frac{1}{\\beta(a,b)}x^{a}(1-x)^{b-1}\n",
    "$$\n",
    "\n",
    "$$\n",
    "\\Bbb{E}(x) = \\frac{\\beta(a+1,b)}{\\beta(a,b)}\n",
    "$$\n",
    "\n",
    "And because \n",
    "$$\n",
    "\\beta(a,b) = \\frac{\\Gamma(a)\\Gamma(b)}{\\Gamma(a+b)}\n",
    "$$\n",
    "\n",
    "$$\n",
    "\\Bbb{E}(x) = \\frac{\\beta(a+1,b)}{\\beta(a,b)}\n",
    "$$\n",
    "\n",
    "$$\n",
    "\\Bbb{E}(x) = \\frac{\\Gamma(a+1)\\Gamma(b)\\Gamma(a+b)}{\\Gamma(a+b+1)\\Gamma(a)\\Gamma(b)}\n",
    "$$\n",
    "\n",
    "$$\n",
    "\\Bbb{E}(x) = \\frac{a}{a+b}\n",
    "$$"
   ]
  },
  {
   "cell_type": "markdown",
   "metadata": {},
   "source": [
    "### Answer: $\n",
    "\\Bbb{E}(x) = \\frac{a}{a+b}\n",
    "$"
   ]
  },
  {
   "cell_type": "markdown",
   "metadata": {},
   "source": [
    "### Problem 4.2:\n",
    "\n",
    "> *Derive the formula given in lecture for the mode of the beta distribution, $\\hat x$, in terms of $a$ and $b$.  (The mode is the value of $x$ with maximum probability density).*\n"
   ]
  },
  {
   "cell_type": "markdown",
   "metadata": {},
   "source": [
    "For beta distribution, mode is also same as its maximum. So to calculate the mode, one can calculate when the differentiation of the probability distribution = 0\n",
    "\n",
    "$$\n",
    "{\\rm Beta}(x|a,b) = \\frac{1}{\\beta(a,b)}x^{a-1}(1-x)^{b-1}\n",
    "$$\n",
    "\n",
    "$$\n",
    "{\\rm Beta}(x|a,b) = \\frac{\\Gamma(a)\\Gamma(b)}{\\Gamma(a+b)}x^{a-1}(1-x)^{b-1}\n",
    "$$\n",
    "\n",
    "$$\n",
    "\\frac{d}{dx}(\\frac{\\Gamma(a)\\Gamma(b)}{\\Gamma(a+b)}x^{a-1}(1-x)^{b-1}) = 0\n",
    "$$\n",
    "\n",
    "$$\n",
    "\\frac{\\Gamma(a)\\Gamma(b)}{\\Gamma(a+b)}[(a-1)x^{a-2}(1-x)^{b-1}+x^{a-1}(-1)(b-1)(1-x)^{b-2}] = 0\n",
    "$$\n",
    "\n",
    "Because $\\Gamma(a+b)$ cannot be 0, the above is equivalent to the below statement\n",
    "\n",
    "$$\n",
    "(a-1)x^{a-2}(1-x)^{b-1}+x^{a-1}(-1)(b-1)(1-x)^{b-2} = 0\n",
    "$$\n",
    "\n",
    "$$\n",
    "(a-1)x^{a-2}(1-x)^{b-1}=x^{a-1}(b-1)(1-x)^{b-2}\n",
    "$$\n",
    "\n",
    "$$\n",
    "(a-1)x^{-1}=(b-1)(1-x)^{-1}\n",
    "$$\n",
    "\n",
    "$$\n",
    "(a-1)(1-x)=(b-1)x\n",
    "$$\n",
    "\n",
    "$$\n",
    "a-ax+x-1-bx+x=0\n",
    "$$\n",
    "\n",
    "$$\n",
    "(-a+2-b)x=-a+1\n",
    "$$\n",
    "\n",
    "$$\n",
    "x=\\frac{1-a}{2-a-b}=\\frac{a-1}{a+b-2}\n",
    "$$"
   ]
  },
  {
   "cell_type": "markdown",
   "metadata": {},
   "source": [
    "### Answer: the mode is $\\frac{a-1}{a+b-2}$"
   ]
  }
 ],
 "metadata": {
  "anaconda-cloud": {},
  "kernelspec": {
   "display_name": "Python [default]",
   "language": "python",
   "name": "python3"
  },
  "language_info": {
   "codemirror_mode": {
    "name": "ipython",
    "version": 3
   },
   "file_extension": ".py",
   "mimetype": "text/x-python",
   "name": "python",
   "nbconvert_exporter": "python",
   "pygments_lexer": "ipython3",
   "version": "3.5.2"
  }
 },
 "nbformat": 4,
 "nbformat_minor": 1
}
